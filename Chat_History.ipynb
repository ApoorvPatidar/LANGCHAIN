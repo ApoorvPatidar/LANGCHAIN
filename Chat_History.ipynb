{
 "cells": [
  {
   "cell_type": "code",
   "execution_count": 2,
   "id": "dc6921c7",
   "metadata": {},
   "outputs": [
    {
     "data": {
      "text/plain": [
       "ChatGoogleGenerativeAI(model='models/gemini-2.5-flash', google_api_key=SecretStr('**********'), client=<google.ai.generativelanguage_v1beta.services.generative_service.client.GenerativeServiceClient object at 0x73d6f4cb1a60>, default_metadata=(), model_kwargs={})"
      ]
     },
     "execution_count": 2,
     "metadata": {},
     "output_type": "execute_result"
    }
   ],
   "source": [
    "import os\n",
    "from dotenv import load_dotenv\n",
    "from langchain_core.messages import HumanMessage, SystemMessage, AIMessage\n",
    "from langchain_google_genai import ChatGoogleGenerativeAI\n",
    "load_dotenv()\n",
    "\n",
    "# model = ChatGroq(model=\"deepseek-r1-distill-llama-70b\", reasoning_format=\"parsed\")\n",
    "model = ChatGoogleGenerativeAI(model=\"gemini-2.5-flash\")\n",
    "model"
   ]
  },
  {
   "cell_type": "code",
   "execution_count": null,
   "id": "d2495e44",
   "metadata": {},
   "outputs": [],
   "source": [
    "message = [\n",
    "    SystemMessage(content = \"You are a helpful assistant.\"),\n",
    "    HumanMessage(content = \"What is the place city to visit in Europe\")\n",
    "]\n",
    "\n",
    "message.append(model.invoke(message))"
   ]
  },
  {
   "cell_type": "code",
   "execution_count": 21,
   "id": "24d3fa73",
   "metadata": {},
   "outputs": [
    {
     "data": {
      "text/plain": [
       "'Your first question was: **\"What is the place city to visit in Europe\"**. You were asking for recommendations on the best cities to visit in Europe, and I provided a detailed list of top destinations! Let me know if you\\'d like more details about any of them. 😊'"
      ]
     },
     "execution_count": 21,
     "metadata": {},
     "output_type": "execute_result"
    }
   ],
   "source": [
    "def query(content):\n",
    "    message.append(HumanMessage(content = content))\n",
    "    result = model.invoke(message)\n",
    "    message.append(result)\n",
    "    return result.content\n",
    "\n",
    "query(\"What was my first question ?\")"
   ]
  },
  {
   "cell_type": "code",
   "execution_count": 23,
   "id": "6811caa9",
   "metadata": {},
   "outputs": [
    {
     "data": {
      "text/plain": [
       "'Hello, Apoorv! 👋 It’s great to meet you. As a student of AI and Machine Learning (AIML), you must be diving into some fascinating topics like neural networks, algorithms, and maybe even cutting-edge technologies like generative AI or reinforcement learning. If you have any questions about your studies, projects, or need help with anything, feel free to ask—I’m here to assist! 🚀\\n\\nHow’s your journey in AIML going so far? 😊'"
      ]
     },
     "execution_count": 23,
     "metadata": {},
     "output_type": "execute_result"
    }
   ],
   "source": [
    "query(\"I am Apoorv student of AIML\")"
   ]
  },
  {
   "cell_type": "code",
   "execution_count": 24,
   "id": "b90fb4ed",
   "metadata": {},
   "outputs": [
    {
     "data": {
      "text/plain": [
       "'You are **Apoorv**, a student of **AI and Machine Learning (AIML)**! 😊 How can I assist you today? Whether it’s about your studies, projects, or anything else, feel free to ask!'"
      ]
     },
     "execution_count": 24,
     "metadata": {},
     "output_type": "execute_result"
    }
   ],
   "source": [
    "query(\"Who am I again ?\")"
   ]
  },
  {
   "cell_type": "code",
   "execution_count": 27,
   "id": "c5c48adf",
   "metadata": {},
   "outputs": [],
   "source": [
    "if len(message) > 10:\n",
    "    message = message[:1]"
   ]
  },
  {
   "cell_type": "code",
   "execution_count": 28,
   "id": "b752c4d0",
   "metadata": {},
   "outputs": [
    {
     "data": {
      "text/plain": [
       "[SystemMessage(content='You are a helpful assistant.', additional_kwargs={}, response_metadata={})]"
      ]
     },
     "execution_count": 28,
     "metadata": {},
     "output_type": "execute_result"
    }
   ],
   "source": [
    "message"
   ]
  },
  {
   "cell_type": "markdown",
   "id": "c4616d87",
   "metadata": {},
   "source": [
    "## Message History"
   ]
  },
  {
   "cell_type": "code",
   "execution_count": 10,
   "id": "3a292559",
   "metadata": {},
   "outputs": [],
   "source": [
    "from langchain_community.chat_message_histories import ChatMessageHistory\n",
    "from langchain_core.chat_history import BaseChatMessageHistory\n",
    "from langchain_core.runnables.history import RunnableWithMessageHistory\n",
    "\n",
    "store = {}\n",
    "\n",
    "def get_session_history(session_id:str) -> BaseChatMessageHistory:\n",
    "    if session_id not in store:\n",
    "        store[session_id] = ChatMessageHistory()\n",
    "    return store[session_id]\n",
    "\n",
    "with_message_history = RunnableWithMessageHistory(model, get_session_history)"
   ]
  },
  {
   "cell_type": "code",
   "execution_count": 11,
   "id": "e0efa04b",
   "metadata": {},
   "outputs": [],
   "source": [
    "config = {\n",
    "    \"configurable\": {\n",
    "        \"session_id\":\"chat1\"\n",
    "        }\n",
    "    }"
   ]
  },
  {
   "cell_type": "code",
   "execution_count": 12,
   "id": "0ce9f2c4",
   "metadata": {},
   "outputs": [
    {
     "name": "stdout",
     "output_type": "stream",
     "text": [
      "content=\"I'm doing great, thank you for asking!\\n\\nHow can I help you today?\" additional_kwargs={} response_metadata={'prompt_feedback': {'block_reason': 0, 'safety_ratings': []}, 'finish_reason': 'STOP', 'model_name': 'gemini-2.5-flash', 'safety_ratings': []} id='run--380fa355-aafa-4444-b162-82cdfb76e7fe-0' usage_metadata={'input_tokens': 7, 'output_tokens': 19, 'total_tokens': 117, 'input_token_details': {'cache_read': 0}, 'output_token_details': {'reasoning': 91}}\n"
     ]
    }
   ],
   "source": [
    "text = {\"content\": \"Hello, how are you?\"}\n",
    "response = with_message_history.invoke(text, config)\n",
    "print(response)\n"
   ]
  },
  {
   "cell_type": "code",
   "execution_count": 13,
   "id": "c171ab6f",
   "metadata": {},
   "outputs": [
    {
     "data": {
      "text/plain": [
       "'Vale, vale!\\n\\nHow can I help you then?'"
      ]
     },
     "execution_count": 13,
     "metadata": {},
     "output_type": "execute_result"
    }
   ],
   "source": [
    "with_message_history.invoke({\"content\": \"Vale Vale\"}, config).content"
   ]
  },
  {
   "cell_type": "code",
   "execution_count": 14,
   "id": "04707a57",
   "metadata": {},
   "outputs": [
    {
     "data": {
      "text/plain": [
       "'To say \"I love you\" in French, you say:\\n\\n**Je t\\'aime**\\n\\n*   **Je** (I)\\n*   **t\\'** (you - contraction of \"te\" before a vowel)\\n*   **aime** (love)'"
      ]
     },
     "execution_count": 14,
     "metadata": {},
     "output_type": "execute_result"
    }
   ],
   "source": [
    "with_message_history.invoke(\n",
    "    [HumanMessage(content = \"How to say i love you in french\")], \n",
    "    config = config\n",
    ").content"
   ]
  },
  {
   "cell_type": "markdown",
   "id": "5fe76dc2",
   "metadata": {},
   "source": [
    "### MessagePlaceholder is used to define the variable for the message in the system"
   ]
  },
  {
   "cell_type": "code",
   "execution_count": 15,
   "id": "723d64bb",
   "metadata": {},
   "outputs": [],
   "source": [
    "from langchain_core.prompts import ChatPromptTemplate, MessagesPlaceholder\n",
    "\n",
    "prompt = ChatPromptTemplate.from_messages(\n",
    "    [\n",
    "        (\"system\", \"You are a helpful assistant. answer every question in {line_count} line.\"),\n",
    "        MessagesPlaceholder(variable_name=\"messages\"),\n",
    "    ]\n",
    ")\n",
    "\n",
    "chain = prompt | model"
   ]
  },
  {
   "cell_type": "code",
   "execution_count": 16,
   "id": "4ad4ffc2",
   "metadata": {},
   "outputs": [
    {
     "name": "stdout",
     "output_type": "stream",
     "text": [
      "Paris is the capital of France.\n"
     ]
    }
   ],
   "source": [
    "response = chain.invoke({\"messages\": [HumanMessage(content=\"What is the capital of France?\")], \"line_count\": 1})\n",
    "print(response.content)"
   ]
  },
  {
   "cell_type": "code",
   "execution_count": 17,
   "id": "e2e0a49d",
   "metadata": {},
   "outputs": [],
   "source": [
    "with_message_history = RunnableWithMessageHistory(chain, get_session_history, input_messages_key= \"messages\")"
   ]
  },
  {
   "cell_type": "code",
   "execution_count": 18,
   "id": "99c16491",
   "metadata": {},
   "outputs": [
    {
     "data": {
      "text/plain": [
       "'Paris is the capital of France.'"
      ]
     },
     "execution_count": 18,
     "metadata": {},
     "output_type": "execute_result"
    }
   ],
   "source": [
    "config = {\"configurable\": \n",
    "            {\n",
    "              \"session_id\": \"chat2\"\n",
    "            }\n",
    "        }\n",
    "\n",
    "response = with_message_history.invoke(\n",
    "    {\n",
    "        \"messages\": [HumanMessage(content=\"What is the capital of France?\")], \n",
    "        \"line_count\": 1\n",
    "    },\n",
    "    config=config\n",
    ")\n",
    "\n",
    "response.content"
   ]
  },
  {
   "cell_type": "markdown",
   "id": "0f900d51",
   "metadata": {},
   "source": [
    "## Managing the conversation history\n",
    "\n",
    "-Trim messages: helps to redue howmany messages we are sending to the model. Helps us to specify how many tokens to keep"
   ]
  },
  {
   "cell_type": "code",
   "execution_count": 19,
   "id": "c2149083",
   "metadata": {},
   "outputs": [],
   "source": [
    "from langchain_core.messages import HumanMessage, SystemMessage, AIMessage, trim_messages\n",
    "trimmer = trim_messages(\n",
    "    max_tokens=50,\n",
    "    strategy=\"last\",\n",
    "    token_counter=model,\n",
    "    include_system=True,\n",
    "    allow_partial=False,\n",
    "    start_on=\"human\",\n",
    ")"
   ]
  },
  {
   "cell_type": "code",
   "execution_count": 20,
   "id": "bf6bca2d",
   "metadata": {},
   "outputs": [],
   "source": [
    "messages = [\n",
    "    SystemMessage(content=\"You are a helpful assistant.\"),\n",
    "    HumanMessage(content=\"What is the place city to visit in Europe\"),\n",
    "    AIMessage(content=\"Paris is a great city to visit in Europe.\"),\n",
    "    HumanMessage(content=\"What is the capital of France?\"),\n",
    "    AIMessage(content=\"The capital of France is Paris.\"),\n",
    "    HumanMessage(content=\"What is the capital of Germany?\"),\n",
    "    AIMessage(content=\"The capital of Germany is Berlin.\"),\n",
    "    HumanMessage(content=\"What is the capital of Italy?\"),\n",
    "    AIMessage(content=\"The capital of Italy is Rome.\"),\n",
    "    HumanMessage(content=\"What is the capital of Spain?\"),\n",
    "    AIMessage(content=\"The capital of Spain is Madrid.\"),\n",
    "]"
   ]
  },
  {
   "cell_type": "code",
   "execution_count": 21,
   "id": "cc792415",
   "metadata": {},
   "outputs": [
    {
     "data": {
      "text/plain": [
       "'The capital of India is New Delhi.'"
      ]
     },
     "execution_count": 21,
     "metadata": {},
     "output_type": "execute_result"
    }
   ],
   "source": [
    "from operator import itemgetter\n",
    "from langchain_core.runnables import RunnablePassthrough, RunnableLambda\n",
    "\n",
    "chain = (\n",
    "    RunnablePassthrough.assign(messages = itemgetter(\"messages\") | trimmer) | prompt | model\n",
    ")\n",
    "\n",
    "result = chain.invoke({\n",
    "    \"messages\": messages + [HumanMessage(content=\"What is the capital of India?\")],\n",
    "    \"line_count\": 1\n",
    "})\n",
    "\n",
    "result.content"
   ]
  },
  {
   "cell_type": "markdown",
   "id": "6d6936bc",
   "metadata": {},
   "source": [
    "#### Vector Stores and retrievers"
   ]
  },
  {
   "cell_type": "code",
   "execution_count": 22,
   "id": "89c4aada",
   "metadata": {},
   "outputs": [],
   "source": [
    "from langchain_core.documents import Document\n",
    "\n",
    "documents = [\n",
    "    Document(page_content=\"Dogs are great companions and are known for their loyalty and affection.\",\n",
    "             metadata = {\"source\": \"mammals-docs\"}\n",
    "             ),\n",
    "    Document(page_content=\"Cats are independent animals and are known for their agility and curiosity.\",\n",
    "             metadata = {\"source\": \"mammals-docs\"}\n",
    "             ),\n",
    "    Document(page_content=\"Birds are known for their ability to fly and their beautiful songs.\",\n",
    "             metadata = {\"source\": \"birds-docs\"}\n",
    "             ),\n",
    "    Document(page_content=\"Fish are aquatic animals and are known for their colorful scales and fins.\",\n",
    "             metadata = {\"source\": \"fish-docs\"}\n",
    "             ),\n",
    "]"
   ]
  },
  {
   "cell_type": "code",
   "execution_count": 23,
   "id": "cf6d52e4",
   "metadata": {},
   "outputs": [
    {
     "name": "stdout",
     "output_type": "stream",
     "text": [
      "[Document(metadata={'source': 'mammals-docs'}, page_content='Dogs are great companions and are known for their loyalty and affection.'), Document(metadata={'source': 'mammals-docs'}, page_content='Cats are independent animals and are known for their agility and curiosity.'), Document(metadata={'source': 'birds-docs'}, page_content='Birds are known for their ability to fly and their beautiful songs.'), Document(metadata={'source': 'fish-docs'}, page_content='Fish are aquatic animals and are known for their colorful scales and fins.')]\n"
     ]
    }
   ],
   "source": [
    "print(documents)"
   ]
  },
  {
   "cell_type": "code",
   "execution_count": 25,
   "id": "070e92f4",
   "metadata": {},
   "outputs": [
    {
     "data": {
      "text/plain": [
       "ChatGoogleGenerativeAI(model='models/gemini-2.5-flash', google_api_key=SecretStr('**********'), client=<google.ai.generativelanguage_v1beta.services.generative_service.client.GenerativeServiceClient object at 0x73d6ec1e75f0>, default_metadata=(), model_kwargs={})"
      ]
     },
     "execution_count": 25,
     "metadata": {},
     "output_type": "execute_result"
    }
   ],
   "source": [
    "## Vector Store\n",
    "from langchain_chroma import Chroma\n",
    "from langchain_google_genai import ChatGoogleGenerativeAI\n",
    "\n",
    "model = ChatGoogleGenerativeAI(model=\"gemini-2.5-flash\")\n",
    "model"
   ]
  },
  {
   "cell_type": "code",
   "execution_count": 31,
   "id": "05ab1c3f",
   "metadata": {},
   "outputs": [],
   "source": [
    "from langchain_huggingface import HuggingFaceEmbeddings\n",
    "embeddings = HuggingFaceEmbeddings(model_name=\"sentence-transformers/all-MiniLM-l6-v2\")"
   ]
  },
  {
   "cell_type": "code",
   "execution_count": 34,
   "id": "e5eaf32e",
   "metadata": {},
   "outputs": [
    {
     "data": {
      "text/plain": [
       "<langchain_chroma.vectorstores.Chroma at 0x73d534313fb0>"
      ]
     },
     "execution_count": 34,
     "metadata": {},
     "output_type": "execute_result"
    }
   ],
   "source": [
    "vector_store = Chroma.from_documents(\n",
    "    documents=documents,\n",
    "    embedding=embeddings,)\n",
    "vector_store"
   ]
  },
  {
   "cell_type": "code",
   "execution_count": 37,
   "id": "fcf99493",
   "metadata": {},
   "outputs": [
    {
     "name": "stdout",
     "output_type": "stream",
     "text": [
      "[-2.38108393e-02  3.91990831e-03  9.50494632e-02  7.88813755e-02\n",
      " -8.37091878e-02  7.07838610e-02  5.31210331e-03 -3.57250907e-02\n",
      "  3.84816341e-02  2.29484681e-02  4.09078710e-02  9.67599731e-03\n",
      "  4.01636958e-02  4.90465313e-02  1.51777044e-02  9.77447815e-03\n",
      "  2.44302093e-03 -4.37710173e-02 -1.54315280e-02 -2.94769276e-02\n",
      " -1.71753541e-01 -4.84478772e-02  2.24018749e-02 -2.58498196e-03\n",
      " -1.02492221e-01 -9.99812875e-03  5.00942394e-02 -9.33647305e-02\n",
      "  7.61535438e-03  3.68562108e-03 -5.92397414e-02  1.98839139e-02\n",
      "  2.09417362e-02  5.09361736e-02 -6.06974475e-02  3.17423679e-02\n",
      "  2.71954387e-02  1.93714034e-02  5.28518483e-03  2.82021835e-02\n",
      "  1.46919917e-02  2.53355317e-02  6.87923059e-02 -4.79911864e-02\n",
      " -7.66359568e-02 -3.43609266e-02 -7.73351565e-02 -4.53878678e-02\n",
      " -1.82662830e-02 -3.46984491e-02 -4.10790183e-03  5.71112223e-02\n",
      "  9.20985732e-03  9.98270139e-03  1.21411225e-02 -3.08774430e-02\n",
      " -2.81252712e-02 -7.59686381e-02 -2.10256707e-02  7.88249355e-03\n",
      "  5.29428646e-02  7.85778835e-02  2.11485308e-02 -1.57044791e-02\n",
      " -1.16795553e-02 -6.46901503e-02 -3.17277275e-02  9.51177105e-02\n",
      " -6.99050874e-02 -6.48440327e-03 -1.25822928e-02  5.17609306e-02\n",
      "  6.87403381e-02 -1.25875501e-02 -5.47182113e-02  2.20073794e-04\n",
      " -1.98904704e-02 -6.43301308e-02  8.33422467e-02 -2.22669691e-02\n",
      " -5.88677786e-02  1.73448585e-02 -1.32793989e-02  6.95246980e-02\n",
      "  2.81851627e-02 -2.88340319e-02 -1.12485141e-02 -8.51126090e-02\n",
      " -1.03625521e-01  1.60278510e-02 -2.50640139e-03 -3.75504829e-02\n",
      " -2.37322357e-02 -5.45268692e-02 -5.19642122e-02  2.72777188e-03\n",
      " -4.70526237e-03 -3.12115159e-02 -5.80288954e-02 -5.08534350e-03\n",
      "  1.22756446e-02  5.29294647e-02 -3.11479680e-02  4.13003601e-02\n",
      "  5.18481173e-02  1.47650950e-02 -1.01717010e-01  1.34901544e-02\n",
      "  1.52167743e-02 -9.25153773e-03 -1.43017732e-02 -2.79450193e-02\n",
      " -6.67736009e-02  3.06146462e-02  5.57673909e-02  5.74803054e-02\n",
      " -8.38067681e-02 -6.58195019e-02  2.13782769e-02 -2.78405566e-02\n",
      "  7.63279349e-02  7.07650036e-02  5.28562441e-03  1.06052030e-02\n",
      "  5.12848943e-02 -8.21741000e-02  2.69820951e-02 -5.25768611e-33\n",
      "  1.71859674e-02  9.76777263e-03 -2.23739888e-03  1.75619982e-02\n",
      " -6.78695962e-02  9.44886636e-03  3.85678448e-02 -2.49255262e-02\n",
      " -6.70502186e-02 -2.11148188e-02 -7.55441338e-02  9.81671512e-02\n",
      "  3.48188393e-02  7.28879264e-03 -6.39973357e-02  2.39889156e-02\n",
      " -2.92239804e-02  3.68258217e-03  8.66245553e-02  1.20475842e-02\n",
      " -1.27612380e-02  4.84202132e-02  5.41805923e-02  2.77891662e-02\n",
      " -2.50009149e-02 -6.90232590e-02 -3.35101970e-02 -1.12175671e-02\n",
      " -3.79487984e-02  2.93729939e-02  9.52489863e-05 -1.89710390e-02\n",
      " -1.86760176e-03 -5.92402928e-03 -1.02919087e-01  3.93301947e-03\n",
      " -1.26235843e-01 -1.13799140e-01 -2.00243089e-02  8.33977833e-02\n",
      "  4.51731458e-02 -3.32712755e-02 -3.29793096e-02 -1.89297739e-02\n",
      " -4.97079920e-03  3.19569074e-02 -4.25893515e-02 -5.00499494e-02\n",
      " -2.93718893e-02 -5.18786674e-03 -2.71855723e-02 -2.59538982e-02\n",
      "  3.15846018e-02  2.37031337e-02 -7.26301149e-02  3.13290209e-02\n",
      "  8.41188803e-02  9.84472707e-02 -2.68486459e-02  2.86254585e-02\n",
      "  4.60675210e-02 -2.97099091e-02  2.90540010e-02 -8.23149011e-02\n",
      "  6.79785535e-02 -6.40247539e-02 -1.90719180e-02  1.34813311e-02\n",
      " -7.09760189e-02  7.12695271e-02  3.20832990e-02  5.15744239e-02\n",
      "  8.17485526e-03 -3.84769253e-02  2.31750570e-02 -5.14001511e-02\n",
      "  9.26961973e-02 -2.22342350e-02  1.09450325e-01 -4.08602552e-03\n",
      " -1.86056159e-02  3.91903892e-02 -9.57195088e-03  4.85714674e-02\n",
      " -2.03901641e-02  1.37106096e-02  8.36805999e-03 -3.80250476e-02\n",
      " -1.61237344e-02  6.61131516e-02  1.54533386e-02 -2.20067371e-02\n",
      "  5.53597733e-02 -2.81518437e-02  3.36117223e-02  1.17598751e-33\n",
      "  6.58714548e-02  1.89456400e-02  5.34887835e-02  2.48260144e-02\n",
      " -4.70167473e-02  1.99175291e-02 -1.36768416e-01  9.91952699e-03\n",
      " -4.26296070e-02  9.54781920e-02 -6.04205318e-02  3.11021265e-02\n",
      "  6.13243133e-02  5.49977049e-02 -2.85955295e-02 -6.47491263e-03\n",
      " -1.77973974e-02 -2.41600312e-02  7.26417229e-02 -7.77815580e-02\n",
      " -6.46867231e-02  8.52382630e-02  1.04598794e-02 -7.80934375e-03\n",
      "  9.78265610e-03 -1.58390577e-03 -4.07261290e-02 -7.07591027e-02\n",
      " -3.90965380e-02 -5.00969104e-02  7.78643042e-02 -4.07780483e-02\n",
      " -1.15044564e-01 -3.17312069e-02  5.01212738e-02  7.04511106e-02\n",
      " -2.25848537e-02 -1.19797932e-02 -3.11464164e-02  3.05745173e-02\n",
      "  1.14892088e-02 -1.38593232e-02  4.54945341e-02 -4.74141575e-02\n",
      "  3.74910645e-02  5.12729958e-02  4.58140038e-02 -5.00440001e-02\n",
      "  2.29707882e-02  3.70398648e-02 -2.18884610e-02 -2.20778887e-03\n",
      "  2.01657973e-02 -1.93358399e-02 -4.38761786e-02  1.36578092e-02\n",
      "  3.25835831e-02  4.35476787e-02  5.57937510e-02 -4.94927280e-02\n",
      " -3.66319977e-02  1.80920810e-02  1.26248924e-02  9.39016938e-02\n",
      " -7.28747547e-02 -1.25489295e-01 -3.88688943e-03 -1.46429730e-03\n",
      "  4.31323797e-03 -7.91773722e-02 -6.31172210e-02  1.34564203e-03\n",
      " -5.01687415e-02  4.91062999e-02  1.96486935e-02  6.68646619e-02\n",
      "  2.55628512e-03 -1.35316238e-01  4.47500050e-02  2.38883812e-02\n",
      " -5.75661957e-02 -6.82457630e-03  5.08483239e-02  4.92877960e-02\n",
      " -2.67544519e-02  2.32002884e-03 -1.46389408e-02  6.77639320e-02\n",
      "  1.94721203e-02 -5.76256998e-02 -1.87919140e-02  8.70858412e-03\n",
      "  3.03758606e-02 -7.74027705e-02 -4.10161130e-02 -2.15012275e-08\n",
      " -4.06893119e-02 -1.96078029e-02 -6.82223663e-02 -2.01099971e-03\n",
      "  1.33182192e-02  8.32466874e-04 -1.66198853e-02 -9.11841467e-02\n",
      " -3.73856090e-02  1.50825560e-01  4.93433923e-02 -2.16169786e-02\n",
      " -7.67810121e-02  9.88633744e-03  8.40404034e-02  6.01851083e-02\n",
      "  6.25824109e-02 -1.85528565e-02  4.12526615e-02  8.14752653e-02\n",
      " -5.05018756e-02  6.68127462e-03  2.02511754e-02 -5.30149862e-02\n",
      " -5.25045805e-02 -2.56160228e-03 -2.85821538e-02 -2.47341488e-02\n",
      " -5.71484417e-02  3.01643759e-02  1.34860355e-04  2.90608741e-02\n",
      "  2.88913287e-02 -2.03315783e-02  1.60221905e-01  2.12612431e-02\n",
      "  1.15583930e-02 -1.08074814e-01  5.46890199e-02  5.08804955e-02\n",
      "  4.84430157e-02  1.27252132e-01 -8.28857124e-02  3.70385125e-03\n",
      "  4.60259095e-02  4.17710803e-02  1.19766712e-01 -3.27293724e-02\n",
      " -6.06567897e-02  1.88712347e-02 -1.17861822e-01 -4.23978595e-03\n",
      "  1.32808397e-02 -2.87123844e-02 -4.06987406e-02 -5.33623919e-02\n",
      " -9.87735391e-03 -4.89290096e-02  1.34212196e-01  1.31374702e-03\n",
      "  1.69174336e-02  9.67115462e-02  4.84588854e-02 -8.26259726e-04]\n"
     ]
    }
   ],
   "source": [
    "results = vector_store.get(include=[\"embeddings\"])\n",
    "all_vectors = results.get(\"embeddings\")\n",
    "first_vector = all_vectors[0]\n",
    "print(first_vector)"
   ]
  },
  {
   "cell_type": "code",
   "execution_count": 40,
   "id": "03388288",
   "metadata": {},
   "outputs": [
    {
     "data": {
      "text/plain": [
       "[Document(id='3272762d-28ec-4d13-99a3-c238b8aaa4d6', metadata={'source': 'mammals-docs'}, page_content='Cats are independent animals and are known for their agility and curiosity.'),\n",
       " Document(id='a51cca6e-5a85-4ec8-b0d0-2cb2e9a86886', metadata={'source': 'mammals-docs'}, page_content='Cats are independent animals and are known for their agility and curiosity.'),\n",
       " Document(id='84687f97-cdca-495e-b7c7-cc51723ad5b7', metadata={'source': 'mammals-docs'}, page_content='Cats are independent animals and are known for their agility and curiosity.'),\n",
       " Document(id='db900b93-7e8b-4176-a240-ab191cc91581', metadata={'source': 'mammals-docs'}, page_content='Dogs are great companions and are known for their loyalty and affection.')]"
      ]
     },
     "execution_count": 40,
     "metadata": {},
     "output_type": "execute_result"
    }
   ],
   "source": [
    "vector_store.similarity_search(\"cat\")"
   ]
  },
  {
   "cell_type": "code",
   "execution_count": null,
   "id": "19d8a172",
   "metadata": {},
   "outputs": [
    {
     "data": {
      "text/plain": [
       "[Document(id='3272762d-28ec-4d13-99a3-c238b8aaa4d6', metadata={'source': 'mammals-docs'}, page_content='Cats are independent animals and are known for their agility and curiosity.'),\n",
       " Document(id='a51cca6e-5a85-4ec8-b0d0-2cb2e9a86886', metadata={'source': 'mammals-docs'}, page_content='Cats are independent animals and are known for their agility and curiosity.'),\n",
       " Document(id='84687f97-cdca-495e-b7c7-cc51723ad5b7', metadata={'source': 'mammals-docs'}, page_content='Cats are independent animals and are known for their agility and curiosity.'),\n",
       " Document(id='db900b93-7e8b-4176-a240-ab191cc91581', metadata={'source': 'mammals-docs'}, page_content='Dogs are great companions and are known for their loyalty and affection.')]"
      ]
     },
     "execution_count": 41,
     "metadata": {},
     "output_type": "execute_result"
    }
   ],
   "source": [
    "# Async Query\n",
    "await vector_store.asimilarity_search(\"cat\")"
   ]
  },
  {
   "cell_type": "markdown",
   "id": "b6a04821",
   "metadata": {},
   "source": [
    "### Retrievers"
   ]
  },
  {
   "cell_type": "code",
   "execution_count": 45,
   "id": "c7550337",
   "metadata": {},
   "outputs": [
    {
     "data": {
      "text/plain": [
       "[[Document(id='3272762d-28ec-4d13-99a3-c238b8aaa4d6', metadata={'source': 'mammals-docs'}, page_content='Cats are independent animals and are known for their agility and curiosity.'),\n",
       "  Document(id='84687f97-cdca-495e-b7c7-cc51723ad5b7', metadata={'source': 'mammals-docs'}, page_content='Cats are independent animals and are known for their agility and curiosity.')],\n",
       " [Document(id='cf55771c-200c-4f2f-8b9b-4c062620adcb', metadata={'source': 'mammals-docs'}, page_content='Dogs are great companions and are known for their loyalty and affection.'),\n",
       "  Document(id='8d7cb903-31c5-4e0c-b62e-5a96372c4c49', metadata={'source': 'mammals-docs'}, page_content='Dogs are great companions and are known for their loyalty and affection.')]]"
      ]
     },
     "execution_count": 45,
     "metadata": {},
     "output_type": "execute_result"
    }
   ],
   "source": [
    "from typing import List\n",
    "from langchain_core.documents import Document\n",
    "from langchain_core.runnables import RunnableLambda\n",
    "\n",
    "retriever = RunnableLambda(vector_store.similarity_search).bind(k=2)\n",
    "retriever.batch([\"cat\", \"dog\"])"
   ]
  },
  {
   "cell_type": "code",
   "execution_count": 46,
   "id": "4b18d160",
   "metadata": {},
   "outputs": [
    {
     "data": {
      "text/plain": [
       "[[Document(id='3272762d-28ec-4d13-99a3-c238b8aaa4d6', metadata={'source': 'mammals-docs'}, page_content='Cats are independent animals and are known for their agility and curiosity.'),\n",
       "  Document(id='84687f97-cdca-495e-b7c7-cc51723ad5b7', metadata={'source': 'mammals-docs'}, page_content='Cats are independent animals and are known for their agility and curiosity.')],\n",
       " [Document(id='cf55771c-200c-4f2f-8b9b-4c062620adcb', metadata={'source': 'mammals-docs'}, page_content='Dogs are great companions and are known for their loyalty and affection.'),\n",
       "  Document(id='8d7cb903-31c5-4e0c-b62e-5a96372c4c49', metadata={'source': 'mammals-docs'}, page_content='Dogs are great companions and are known for their loyalty and affection.')]]"
      ]
     },
     "execution_count": 46,
     "metadata": {},
     "output_type": "execute_result"
    }
   ],
   "source": [
    "vector_store.as_retriever(\n",
    "    search_type=\"similarity\",\n",
    "    search_kwargs={\"k\": 1}\n",
    ")\n",
    "retriever.batch([\"cat\", \"dog\"])"
   ]
  },
  {
   "cell_type": "code",
   "execution_count": 47,
   "id": "8af56a38",
   "metadata": {},
   "outputs": [
    {
     "data": {
      "text/plain": [
       "'Based on the provided context, dogs are great companions and are known for their loyalty and affection.'"
      ]
     },
     "execution_count": 47,
     "metadata": {},
     "output_type": "execute_result"
    }
   ],
   "source": [
    "from langchain_core.runnables import RunnablePassthrough\n",
    "from langchain_core.prompts import ChatPromptTemplate\n",
    "\n",
    "message = \"\"\"\n",
    "Answer the question based on the context below. {question}\n",
    "Context: {context}\n",
    "\"\"\"\n",
    "\n",
    "prompt = ChatPromptTemplate.from_messages([(\"human\", message)])\n",
    "rag_chain = {\"context\": retriever, \"question\": RunnablePassthrough()} | prompt | model\n",
    "response = rag_chain.invoke(\"tell me about dogs\")\n",
    "response.content"
   ]
  },
  {
   "cell_type": "code",
   "execution_count": null,
   "id": "18fb8626",
   "metadata": {},
   "outputs": [],
   "source": []
  }
 ],
 "metadata": {
  "kernelspec": {
   "display_name": "base",
   "language": "python",
   "name": "python3"
  },
  "language_info": {
   "codemirror_mode": {
    "name": "ipython",
    "version": 3
   },
   "file_extension": ".py",
   "mimetype": "text/x-python",
   "name": "python",
   "nbconvert_exporter": "python",
   "pygments_lexer": "ipython3",
   "version": "3.12.7"
  }
 },
 "nbformat": 4,
 "nbformat_minor": 5
}
